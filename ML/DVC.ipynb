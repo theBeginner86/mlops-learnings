{
 "cells": [
  {
   "cell_type": "markdown",
   "metadata": {},
   "source": [
    "## DVC"
   ]
  },
  {
   "cell_type": "code",
   "execution_count": 1,
   "metadata": {},
   "outputs": [
    {
     "name": "stdout",
     "output_type": "stream",
     "text": [
      "\u001b[31mERROR\u001b[39m: failed to initiate DVC - '.dvc' exists. Use `-f` to force.\n",
      "\u001b[0m"
     ]
    }
   ],
   "source": [
    "!dvc init --subdir"
   ]
  },
  {
   "cell_type": "code",
   "execution_count": 2,
   "metadata": {},
   "outputs": [
    {
     "name": "stdout",
     "output_type": "stream",
     "text": [
      "\u001b[?25l\u001b[32m⠋\u001b[0m Checking graph                                       core\u001b[39m>\n",
      "Adding...                                                                       \n",
      "!\u001b[A\n",
      "Collecting files and computing hashes in loan_approval_dataset.csv |0.00 [00:00,\u001b[A\n",
      "Adding...                                                                       \u001b[A\n",
      "\u001b[31mERROR\u001b[39m:  output 'loan_approval_dataset.csv' is already tracked by SCM (e.g. Git).\n",
      "    You can remove it from Git, then add to DVC.\n",
      "        To stop tracking from Git:\n",
      "            git rm -r --cached 'loan_approval_dataset.csv'\n",
      "            git commit -m \"stop tracking loan_approval_dataset.csv\" \n",
      "\u001b[0mgit: 'add.dvc/config' is not a git command. See 'git --help'.\n",
      "On branch master\n",
      "Your branch is up to date with 'origin/master'.\n",
      "\n",
      "Untracked files:\n",
      "  (use \"git add <file>...\" to include in what will be committed)\n",
      "\t\u001b[31mDVC.ipynb\u001b[m\n",
      "\t\u001b[31mDeployment.ipynb\u001b[m\n",
      "\t\u001b[31mInference.ipynb\u001b[m\n",
      "\t\u001b[31mInterpretability.ipynb\u001b[m\n",
      "\t\u001b[31mMLFlow.ipynb\u001b[m\n",
      "\t\u001b[31mModelRegistry.ipynb\u001b[m\n",
      "\t\u001b[31mOptuna.ipynb\u001b[m\n",
      "\t\u001b[31mPerfomanceEval.ipynb\u001b[m\n",
      "\n",
      "nothing added to commit but untracked files present (use \"git add\" to track)\n"
     ]
    }
   ],
   "source": [
    "!dvc add loan_approval_dataset.csv\n",
    "!git add.dvc/config\n",
    "!git commit -m \"Added dataset\""
   ]
  },
  {
   "cell_type": "code",
   "execution_count": 3,
   "metadata": {},
   "outputs": [
    {
     "name": "stdout",
     "output_type": "stream",
     "text": [
      "+-------------------------------+  \n",
      "| loan_approval_dataset.csv.dvc |  \n",
      "+-------------------------------+  \n",
      "\u001b[0m"
     ]
    }
   ],
   "source": [
    "!dvc dag"
   ]
  }
 ],
 "metadata": {
  "kernelspec": {
   "display_name": "venv",
   "language": "python",
   "name": "python3"
  },
  "language_info": {
   "codemirror_mode": {
    "name": "ipython",
    "version": 3
   },
   "file_extension": ".py",
   "mimetype": "text/x-python",
   "name": "python",
   "nbconvert_exporter": "python",
   "pygments_lexer": "ipython3",
   "version": "3.10.12"
  }
 },
 "nbformat": 4,
 "nbformat_minor": 2
}
